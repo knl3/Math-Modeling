{
 "cells": [
  {
   "cell_type": "markdown",
   "metadata": {},
   "source": [
    "<h1 style=\"font-family:Impact,Arial;font-size:70px;\">Math modeling </h1>\n",
    "<h2 style=\"font-family:Arial;\">Kimberly Le</h2>\n",
    "<p><small> Classroom: Dante 215 <br>\n",
    "Source(s): Eli Sylvia-Lourde, Lindsey Knudsen, Professor de Moor's code<br>\n",
    "</small></p>\n",
    "<p>\n",
    "<small><font color=MediumVioletRed>knl2@stmarys-ca.edu</font></small></a>\n",
    "</p>\n",
    "<hr style=\"height:5px;border:none;color:#333;background-color:#333;\" />"
   ]
  },
  {
   "cell_type": "markdown",
   "metadata": {},
   "source": [
    "# The Spread of Disease:\n",
    "\n",
    "An isolated town has a population of 100,000 residents. Last week there were 18 new cases of \n",
    "people infected by a mild disease that lasts three weeks and leaves the person immune from \n",
    "further disease. Direct contact with an infected person leads to an infection of a previously \n",
    "uninfected person. This week there are 40 new cases. It is estimated that 30% of the existing\t\n",
    "population is immune because of previous exposure.\n",
    "\n",
    "1. Make\ta\tlist\tof\tassumptions\tthat\tyou\tneed\tto\tmake in\torder\tto\tdevelop\ta\tdynamical system\tmodel\tusing\tdifference\tequations.\n",
    "2. Develop\ta\tmodel\tthat\tdescribes\thow\tthe\tnumber\tof\tnew\tcases\teach\tweek\tdevelops.\n",
    "3. What\tis\tthe\teventual number\tof\tpeople\twho\twill\tbecome\tinfected?\n",
    "4. Vary\tthe\tassumptions\tyou\tmake\tin\tthis\tmodel\tto\tdevelop\ta\tfeel\tfor\thow\tsensitive\tthe\tmodel\tis\tto\tyour\tassumptions.\n"
   ]
  },
  {
   "cell_type": "markdown",
   "metadata": {},
   "source": [
    "Mathematical model:<br>\n",
    "$R_{n+1}=R_n+\\Delta I_n$<br>\n",
    "$S_{n+1}=S_n-kS_n\\cdot I_n$ <br>\n",
    "$I_{n+1}=I_n+kS_n\\cdot I_n - \\Delta I_{n-3}$<br>\n",
    "<br>\n",
    "Notations explained:\n",
    "- R = \"removed\" population\n",
    "- S = \"susceptible\" population\n",
    "- I = \"infected\" population"
   ]
  },
  {
   "cell_type": "code",
   "execution_count": 14,
   "metadata": {},
   "outputs": [],
   "source": [
    "import matplotlib.pyplot as plt\n",
    "import numpy as np\n",
    "import pandas as pd\n",
    "\n",
    "# variables using given information\n",
    "population=100000\n",
    "infected_initial=18\n",
    "r_immune_initial=0.3*population\n",
    "infected_one=40\n",
    "\n",
    "duration=3\n",
    "\n",
    "# keep track of the three populations: susceptible, infected, immune\n",
    "# array made of zeros with weeks cells\n",
    "weeks=12\n",
    "susceptible=np.zeros(weeks+1)\n",
    "infected=np.zeros(weeks+1)\n",
    "infected_new=np.zeros(weeks+1)\n",
    "removed=np.zeros(weeks+1)\n",
    "\n",
    "# week one \n",
    "susceptible[0] = population - r_immune_initial - infected_initial\n",
    "infected[0] = infected_initial\n",
    "removed[0] = r_immune_initial\n",
    "\n",
    "# use equations to find k rate (refer to the table de moor did in class)\n",
    "infected_rate=infected_one/(infected_initial*susceptible[0])\n",
    "\n",
    "for i in range (0, weeks):\n",
    "    # at weeks 1 and 2, no one is immune yet\n",
    "    if (i<duration-1):\n",
    "        not_infectuous=0\n",
    "    else:\n",
    "        # at 3 weeks, the initial 18 ppl are now immune\n",
    "        if (i==duration-1):\n",
    "            not_infectuous=infected_initial\n",
    "        # a new array for > 3 weeks?\n",
    "        else:\n",
    "            not_infectuous=infected_new[i-duration]\n",
    "    \n",
    "    # assuming that infected interacts with the susceptible, the newly infected > week 3\n",
    "    # will be this equation\n",
    "    infected_new[i]=infected_rate*infected[i]*susceptible[i]\n",
    "    \n",
    "    # if there are less people susceptible than infected, all of the susceptible become infected\n",
    "    if (susceptible[i]<infected_new[i]):\n",
    "        infected_new[i]=susceptible[i]\n",
    "    \n",
    "    # iteration for susceptible/infected/immune\n",
    "    susceptible[i+1]=susceptible[i]-infected_new[i]\n",
    "    infected[i+1]=infected[i]+infected_new[i]-not_infectuous\n",
    "    removed[i+1]=removed[i]+not_infectuous"
   ]
  },
  {
   "cell_type": "code",
   "execution_count": 15,
   "metadata": {},
   "outputs": [
    {
     "data": {
      "text/plain": [
       "3.1754197111003146e-05"
      ]
     },
     "execution_count": 15,
     "metadata": {},
     "output_type": "execute_result"
    }
   ],
   "source": [
    "infected_rate"
   ]
  },
  {
   "cell_type": "code",
   "execution_count": 20,
   "metadata": {},
   "outputs": [
    {
     "data": {
      "text/html": [
       "<div>\n",
       "<style scoped>\n",
       "    .dataframe tbody tr th:only-of-type {\n",
       "        vertical-align: middle;\n",
       "    }\n",
       "\n",
       "    .dataframe tbody tr th {\n",
       "        vertical-align: top;\n",
       "    }\n",
       "\n",
       "    .dataframe thead th {\n",
       "        text-align: right;\n",
       "    }\n",
       "</style>\n",
       "<table border=\"1\" class=\"dataframe\">\n",
       "  <thead>\n",
       "    <tr style=\"text-align: right;\">\n",
       "      <th></th>\n",
       "      <th>Infected</th>\n",
       "      <th>Removed (Immune)</th>\n",
       "      <th>Susceptible</th>\n",
       "    </tr>\n",
       "  </thead>\n",
       "  <tbody>\n",
       "    <tr>\n",
       "      <th>1</th>\n",
       "      <td>18.000000</td>\n",
       "      <td>30000.000000</td>\n",
       "      <td>69982.000000</td>\n",
       "    </tr>\n",
       "    <tr>\n",
       "      <th>2</th>\n",
       "      <td>58.000000</td>\n",
       "      <td>30000.000000</td>\n",
       "      <td>69942.000000</td>\n",
       "    </tr>\n",
       "    <tr>\n",
       "      <th>3</th>\n",
       "      <td>186.815219</td>\n",
       "      <td>30000.000000</td>\n",
       "      <td>69813.184781</td>\n",
       "    </tr>\n",
       "    <tr>\n",
       "      <th>4</th>\n",
       "      <td>582.958710</td>\n",
       "      <td>30018.000000</td>\n",
       "      <td>69399.041290</td>\n",
       "    </tr>\n",
       "    <tr>\n",
       "      <th>5</th>\n",
       "      <td>1827.631138</td>\n",
       "      <td>30058.000000</td>\n",
       "      <td>68114.368862</td>\n",
       "    </tr>\n",
       "    <tr>\n",
       "      <th>6</th>\n",
       "      <td>5651.830550</td>\n",
       "      <td>30186.815219</td>\n",
       "      <td>64161.354231</td>\n",
       "    </tr>\n",
       "    <tr>\n",
       "      <th>7</th>\n",
       "      <td>16752.683042</td>\n",
       "      <td>30600.958710</td>\n",
       "      <td>52646.358248</td>\n",
       "    </tr>\n",
       "    <tr>\n",
       "      <th>8</th>\n",
       "      <td>43474.188489</td>\n",
       "      <td>31885.631138</td>\n",
       "      <td>24640.180373</td>\n",
       "    </tr>\n",
       "    <tr>\n",
       "      <th>9</th>\n",
       "      <td>64161.354231</td>\n",
       "      <td>35838.645769</td>\n",
       "      <td>0.000000</td>\n",
       "    </tr>\n",
       "    <tr>\n",
       "      <th>10</th>\n",
       "      <td>52646.358248</td>\n",
       "      <td>47353.641752</td>\n",
       "      <td>0.000000</td>\n",
       "    </tr>\n",
       "    <tr>\n",
       "      <th>11</th>\n",
       "      <td>24640.180373</td>\n",
       "      <td>75359.819627</td>\n",
       "      <td>0.000000</td>\n",
       "    </tr>\n",
       "    <tr>\n",
       "      <th>12</th>\n",
       "      <td>0.000000</td>\n",
       "      <td>100000.000000</td>\n",
       "      <td>0.000000</td>\n",
       "    </tr>\n",
       "    <tr>\n",
       "      <th>13</th>\n",
       "      <td>0.000000</td>\n",
       "      <td>100000.000000</td>\n",
       "      <td>0.000000</td>\n",
       "    </tr>\n",
       "  </tbody>\n",
       "</table>\n",
       "</div>"
      ],
      "text/plain": [
       "        Infected  Removed (Immune)   Susceptible\n",
       "1      18.000000      30000.000000  69982.000000\n",
       "2      58.000000      30000.000000  69942.000000\n",
       "3     186.815219      30000.000000  69813.184781\n",
       "4     582.958710      30018.000000  69399.041290\n",
       "5    1827.631138      30058.000000  68114.368862\n",
       "6    5651.830550      30186.815219  64161.354231\n",
       "7   16752.683042      30600.958710  52646.358248\n",
       "8   43474.188489      31885.631138  24640.180373\n",
       "9   64161.354231      35838.645769      0.000000\n",
       "10  52646.358248      47353.641752      0.000000\n",
       "11  24640.180373      75359.819627      0.000000\n",
       "12      0.000000     100000.000000      0.000000\n",
       "13      0.000000     100000.000000      0.000000"
      ]
     },
     "execution_count": 20,
     "metadata": {},
     "output_type": "execute_result"
    }
   ],
   "source": [
    "# table of results\n",
    "data = {'Susceptible': susceptible, \n",
    "        'Infected': infected, \n",
    "        'Removed (Immune)':removed,}\n",
    "df=pandas.DataFrame(data=data, \n",
    "                    index=[1, 2, 3, 4, 5,6,7,8,9,10,11,12,13])\n",
    "df"
   ]
  },
  {
   "cell_type": "code",
   "execution_count": 21,
   "metadata": {},
   "outputs": [
    {
     "data": {
      "image/png": "[encoded data removed]",
      "text/plain": [
       "<matplotlib.figure.Figure at 0x10aedb748>"
      ]
     },
     "metadata": {},
     "output_type": "display_data"
    }
   ],
   "source": [
    "# Creating and displaying a plot\n",
    "week = np.arange(0, weeks + 1, 1)\n",
    "\n",
    "fig, ax = plt.subplots()\n",
    "ax.plot(week, susceptible, label = \"Susceptible\")\n",
    "ax.plot(week, infected, label = \"Infected\")\n",
    "ax.plot(week, removed, label = \"Removed\")\n",
    "ax.legend()\n",
    "\n",
    "ax.set(xlabel='Weeks', ylabel='Number',\n",
    "       title='Spread of Infection')\n",
    "ax.grid()\n",
    "fig.savefig(\"SpreadOfInfection.png\")\n",
    "plt.show()"
   ]
  },
  {
   "cell_type": "markdown",
   "metadata": {},
   "source": [
    "# Results\n",
    "What is the eventual number of people who will become infected?<br>"
   ]
  },
  {
   "cell_type": "code",
   "execution_count": 22,
   "metadata": {},
   "outputs": [
    {
     "data": {
      "text/plain": [
       "64161.35423055316"
      ]
     },
     "execution_count": 22,
     "metadata": {},
     "output_type": "execute_result"
    }
   ],
   "source": [
    "# find max number of people infected\n",
    "df['Infected'].max()"
   ]
  },
  {
   "cell_type": "code",
   "execution_count": 25,
   "metadata": {},
   "outputs": [
    {
     "data": {
      "text/plain": [
       "9"
      ]
     },
     "execution_count": 25,
     "metadata": {},
     "output_type": "execute_result"
    }
   ],
   "source": [
    "# find what week\n",
    "df['Infected'].idxmax()"
   ]
  },
  {
   "cell_type": "markdown",
   "metadata": {},
   "source": [
    "The disease will reach its highest point of infected population in Week 8 with 64,161 people infected. By week 11, everyone who was not initially immune will have gotten the disease and recovered from it. Therefore, the entire population will have been immune."
   ]
  },
  {
   "cell_type": "markdown",
   "metadata": {},
   "source": [
    "# Sensitivity testing\n",
    "1. Change the proportionality of interactions between infected and susceptiple populations. \n",
    "    - I believe you can change the proportionality by changing the initial infected and initial susceptiple numbers. With that, we are able to change the rate of infection and overall see the interaction between the variables besides a proportionality. \n",
    "2. Instead of assuming that the duration of the disease lasts for three weeks before one gets immune, we can fluctuate that number to two weeks and see the contagious population rather than the infected population.\n",
    "3. Altering the infection rate reflects changes in the Week 1 and Week 2 infected population.  "
   ]
  },
  {
   "cell_type": "code",
   "execution_count": 28,
   "metadata": {},
   "outputs": [],
   "source": []
  },
  {
   "cell_type": "code",
   "execution_count": null,
   "metadata": {},
   "outputs": [],
   "source": []
  },
  {
   "cell_type": "code",
   "execution_count": null,
   "metadata": {},
   "outputs": [],
   "source": []
  }
 ],
 "metadata": {
  "kernelspec": {
   "display_name": "Python 3",
   "language": "python",
   "name": "python3"
  },
  "language_info": {
   "codemirror_mode": {
    "name": "ipython",
    "version": 3
   },
   "file_extension": ".py",
   "mimetype": "text/x-python",
   "name": "python",
   "nbconvert_exporter": "python",
   "pygments_lexer": "ipython3",
   "version": "3.6.4"
  }
 },
 "nbformat": 4,
 "nbformat_minor": 2
}
